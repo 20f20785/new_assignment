{
  "metadata": {
    "kernelspec": {
      "language": "python",
      "display_name": "Python 3",
      "name": "python3"
    },
    "language_info": {
      "pygments_lexer": "ipython3",
      "nbconvert_exporter": "python",
      "version": "3.6.4",
      "file_extension": ".py",
      "codemirror_mode": {
        "name": "ipython",
        "version": 3
      },
      "name": "python",
      "mimetype": "text/x-python"
    },
    "colab": {
      "provenance": []
    }
  },
  "nbformat_minor": 0,
  "nbformat": 4,
  "cells": [
    {
      "source": [
        "\n",
        "\n",
        "import os\n",
        "import sys\n",
        "from tempfile import NamedTemporaryFile\n",
        "from urllib.request import urlopen\n",
        "from urllib.parse import unquote, urlparse\n",
        "from urllib.error import HTTPError\n",
        "from zipfile import ZipFile\n",
        "import tarfile\n",
        "import shutil\n",
        "\n",
        "CHUNK_SIZE = 40960\n",
        "DATA_SOURCE_MAPPING = 'pulmonary-chest-xray-abnormalities:https%3A%2F%2Fstorage.googleapis.com%2Fkaggle-data-sets%2F15700%2F20797%2Fbundle%2Farchive.zip%3FX-Goog-Algorithm%3DGOOG4-RSA-SHA256%26X-Goog-Credential%3Dgcp-kaggle-com%2540kaggle-161607.iam.gserviceaccount.com%252F20240524%252Fauto%252Fstorage%252Fgoog4_request%26X-Goog-Date%3D20240524T070830Z%26X-Goog-Expires%3D259200%26X-Goog-SignedHeaders%3Dhost%26X-Goog-Signature%3D3a3e8eaa40032fc62a23b8825bb1a722d7ccdb5ed9da974d4b1cc5f63cdec42c3d019fb2c610f519d19742a863ed8d33cb19fe02470d643a06ae41177ef2f7ec00244af0959a5a5a415ccea65543af73f165aecd983288745efe6ffc4e4fcbff40dd30111856da8a141819abc276a156c29f2612a723a06f7fcb9fbdb3bb0184be9e41cebd45c4c2dc9a7057b1c8aeb1e2171d5b023e8caaf792b1ed89ed3e5981b8c07077310484923b8836ff3a2414b52c2ecf3533f99d59574fc36279d26f405200d2db3e69cd810549f1e80cd6ff106490a66876a0148c04bf320b39471fd6c4f8a0ced4769aa6bbd3e5fdd0b24436d552ab83a5d50ea9092808746424b5,chest-xray-pneumonia:https%3A%2F%2Fstorage.googleapis.com%2Fkaggle-data-sets%2F17810%2F23812%2Fbundle%2Farchive.zip%3FX-Goog-Algorithm%3DGOOG4-RSA-SHA256%26X-Goog-Credential%3Dgcp-kaggle-com%2540kaggle-161607.iam.gserviceaccount.com%252F20240524%252Fauto%252Fstorage%252Fgoog4_request%26X-Goog-Date%3D20240524T070830Z%26X-Goog-Expires%3D259200%26X-Goog-SignedHeaders%3Dhost%26X-Goog-Signature%3D24ee248a8f7417a78419fd207b0751f293ec12538d347b54ba48fdc7e823b25a529f6a72f7b51dbc8d9b526e5bfba2ff087a34a28404c1d42ddf0894544408fa23416d1c310469e29d9d7fd8790512841cbb2da9171c2bd16ac71b44d1ca71b93ea1f41b05de2ab2114fe72408c8918088b4ff85a7e29a307b6dd38b536a2fc3add738670f2033c07e862f26444450170bc1534d60a065618d53e30dfbabb51cb0f58bb2946198fedd10c9e8345d5c698c187cf76def12d738832ee75f6489e2284754d349051a02fc470aae0f66d63a913234723b6e9f70a9401b7f0932bac403527b0aef5580140ca1182523bbc53964fa7972de66e277ca372f93ec696198,chest-xray-masks-and-labels:https%3A%2F%2Fstorage.googleapis.com%2Fkaggle-data-sets%2F108201%2F258315%2Fbundle%2Farchive.zip%3FX-Goog-Algorithm%3DGOOG4-RSA-SHA256%26X-Goog-Credential%3Dgcp-kaggle-com%2540kaggle-161607.iam.gserviceaccount.com%252F20240524%252Fauto%252Fstorage%252Fgoog4_request%26X-Goog-Date%3D20240524T070830Z%26X-Goog-Expires%3D259200%26X-Goog-SignedHeaders%3Dhost%26X-Goog-Signature%3D51a3a8d6eac8d8f0993993d1d824a3773e8aec037c0ff62b965745190a33b678ac9c3ca64aa3c79ec09e0338686f42018280cc682ad86615a018dbe8952ac60ed24333dbc56680ddabffdd8b2c2916521b1f7c389ebfa3d4f4ddc03b9f9f2ebac4c4fa203b71ec9b3f10d6e5cbb6675b1f51fded43624f2f1f632f1966ab8a6b404ef575e89938094fc72416e2984bc3ae9284a90795c31d9d8722a40032cdbfacea648588a3fcda242ecef3a7591c2084386b01ba2621f883b5f81d9322003e0b958e62a109a4072dac7e88ca6b6874339ccd0117686c3b78b0896bedc87316d44c8948c6d913efd38c40b03f28b7b0a110b395dd9e49b2fd1f4227a98cd8dc,coronahack-chest-xraydataset:https%3A%2F%2Fstorage.googleapis.com%2Fkaggle-data-sets%2F562468%2F1022626%2Fbundle%2Farchive.zip%3FX-Goog-Algorithm%3DGOOG4-RSA-SHA256%26X-Goog-Credential%3Dgcp-kaggle-com%2540kaggle-161607.iam.gserviceaccount.com%252F20240524%252Fauto%252Fstorage%252Fgoog4_request%26X-Goog-Date%3D20240524T070830Z%26X-Goog-Expires%3D259200%26X-Goog-SignedHeaders%3Dhost%26X-Goog-Signature%3D73b938dffdf10b28844c14410a63cf65d525d9f26ed592ac738e7b5178b7de9cfa1169f62c965969366fc7749d5d02cb6033e2e1db6f519e07690a6620bd1ce58f3c0846fd9cea25f6640c6183818bd4ee5438f2c294106de54a1040370f1d4357e95c97a9441d6329d329f1bd73b4cb7e5cd2370668d2d6998cc362da51167849fcd5d713bbafbd7d0a34dee7d7b30c9dfb5ef3b214390837d77bd5fdb9901b7c58836f276915a1d3d744015eff311e959828d7d0755a7aeaf282049dca7c7c17b883a8745083efe53cad684882f20b36e4b67c4e6ee1533ea5859f521c1c0b49960fa48731192b2cc4fe43d18d61c8ca8d222d9bd1ae701e2c427da1a634ac,covid-chest-xray:https%3A%2F%2Fstorage.googleapis.com%2Fkaggle-data-sets%2F548681%2F1157383%2Fbundle%2Farchive.zip%3FX-Goog-Algorithm%3DGOOG4-RSA-SHA256%26X-Goog-Credential%3Dgcp-kaggle-com%2540kaggle-161607.iam.gserviceaccount.com%252F20240524%252Fauto%252Fstorage%252Fgoog4_request%26X-Goog-Date%3D20240524T070830Z%26X-Goog-Expires%3D259200%26X-Goog-SignedHeaders%3Dhost%26X-Goog-Signature%3D46e23638bb03223954d36a6b2d603998fbf66eb4ee076b7a507f9b30bfbfc92cde05a74fce91b6dcc0791154570cd83eb0a63de1c770f1dfe5356f0ee19b0fbec1ecde26244cc22f4afe2db96431684f3ba9bb6c69c3653067732584833f7d1c84449b86f371b32fb3eccf561ee3c49642a112d73f83302ce9b0ea1b3dfa52c30e30b69d4e19e26592cff2290f194ad9c823229ee40ac09fda78b6606f0c8a3b82534008c881512c142831139f942666c2f29ce667c78544343fe3dc678eb45575ed1cc987326e1f6e159b1f8769df27cc61a04c3babd1a1fdadcfd935a085c7b02463dd1e7a20c46164b4f13a5858def7ff1dc768e8d8f30b1edd453e296f90,labeled-chest-xray-images:https%3A%2F%2Fstorage.googleapis.com%2Fkaggle-data-sets%2F835414%2F1426603%2Fbundle%2Farchive.zip%3FX-Goog-Algorithm%3DGOOG4-RSA-SHA256%26X-Goog-Credential%3Dgcp-kaggle-com%2540kaggle-161607.iam.gserviceaccount.com%252F20240524%252Fauto%252Fstorage%252Fgoog4_request%26X-Goog-Date%3D20240524T070831Z%26X-Goog-Expires%3D259200%26X-Goog-SignedHeaders%3Dhost%26X-Goog-Signature%3D55420a0648a6d90ba45620df19fd685b9a624d042889d29b079e906763f9a5f89ea474b9de97d440b6c1a68d0f0664617dc87e964ca75c7fc7248a0d4da1576979b250b745984ce04968323fcde6dd66d2eeaae0d85304b580056516ab66c595885145445e4c36ebd99e33f0ab91b0fced1879da8687611a99c23f10916b93e5c5f716771d7ac4aa5a13c5b2535813e36bd39ffb426ebfbde7c1f8f2a740f7c14e3f720ed9077508a1677a400cfe4ca8defa5131c4e162fa0ec761cb660475293bd44fc1d5ae1e25cc4ddf4fddbd52b0c986204e2776a2836cd3ba0d892d7a367ceaa04aa49c1596b96a7383c6641b8523424542d31d12a4972d2abdc1677ad3,chest-xray-covid19-pneumonia:https%3A%2F%2Fstorage.googleapis.com%2Fkaggle-data-sets%2F724418%2F1494905%2Fbundle%2Farchive.zip%3FX-Goog-Algorithm%3DGOOG4-RSA-SHA256%26X-Goog-Credential%3Dgcp-kaggle-com%2540kaggle-161607.iam.gserviceaccount.com%252F20240524%252Fauto%252Fstorage%252Fgoog4_request%26X-Goog-Date%3D20240524T070831Z%26X-Goog-Expires%3D259200%26X-Goog-SignedHeaders%3Dhost%26X-Goog-Signature%3D1671e8fc0e9b0c66847452079421692ece2a61f1a5ea8f5c571a3d68c50a1b5f1c89d68c73c1aeaa6026e51ee8a89f8633d0feb225f76ee5eb182de9129e030ab67b3d29d2a3ed42e770b053ccde777f7be8a28cd64514fbabaa26294b4c72ad0bc9c732f74261fbbd9e0a9bdd3b106ef77bc03cea5d44ea552325d385fc647b4b3a2f10f721707dc9c99f38b41b7ff53f77b83eb75050b03e466ab2807b16bd374792e08e18bee11515146590da1cfc9889704ae04afc8379e6aef44145b0fcae73e32460163b95e9941b8865b96c5cef2199941bf9d35de1fcf44d6ad8896244c7c37b63b74f9dfe0bf8e2203368754eb94ef56d6a9d80dcbb71ffcfc3078f'\n",
        "\n",
        "KAGGLE_INPUT_PATH='/kaggle/input'\n",
        "KAGGLE_WORKING_PATH='/kaggle/working'\n",
        "KAGGLE_SYMLINK='kaggle'\n",
        "\n",
        "!umount /kaggle/input/ 2> /dev/null\n",
        "shutil.rmtree('/kaggle/input', ignore_errors=True)\n",
        "os.makedirs(KAGGLE_INPUT_PATH, 0o777, exist_ok=True)\n",
        "os.makedirs(KAGGLE_WORKING_PATH, 0o777, exist_ok=True)\n",
        "\n",
        "try:\n",
        "  os.symlink(KAGGLE_INPUT_PATH, os.path.join(\"..\", 'input'), target_is_directory=True)\n",
        "except FileExistsError:\n",
        "  pass\n",
        "try:\n",
        "  os.symlink(KAGGLE_WORKING_PATH, os.path.join(\"..\", 'working'), target_is_directory=True)\n",
        "except FileExistsError:\n",
        "  pass\n",
        "\n",
        "for data_source_mapping in DATA_SOURCE_MAPPING.split(','):\n",
        "    directory, download_url_encoded = data_source_mapping.split(':')\n",
        "    download_url = unquote(download_url_encoded)\n",
        "    filename = urlparse(download_url).path\n",
        "    destination_path = os.path.join(KAGGLE_INPUT_PATH, directory)\n",
        "    try:\n",
        "        with urlopen(download_url) as fileres, NamedTemporaryFile() as tfile:\n",
        "            total_length = fileres.headers['content-length']\n",
        "            print(f'Downloading {directory}, {total_length} bytes compressed')\n",
        "            dl = 0\n",
        "            data = fileres.read(CHUNK_SIZE)\n",
        "            while len(data) > 0:\n",
        "                dl += len(data)\n",
        "                tfile.write(data)\n",
        "                done = int(50 * dl / int(total_length))\n",
        "                sys.stdout.write(f\"\\r[{'=' * done}{' ' * (50-done)}] {dl} bytes downloaded\")\n",
        "                sys.stdout.flush()\n",
        "                data = fileres.read(CHUNK_SIZE)\n",
        "            if filename.endswith('.zip'):\n",
        "              with ZipFile(tfile) as zfile:\n",
        "                zfile.extractall(destination_path)\n",
        "            else:\n",
        "              with tarfile.open(tfile.name) as tarfile:\n",
        "                tarfile.extractall(destination_path)\n",
        "            print(f'\\nDownloaded and uncompressed: {directory}')\n",
        "    except HTTPError as e:\n",
        "        print(f'Failed to load (likely expired) {download_url} to path {destination_path}')\n",
        "        continue\n",
        "    except OSError as e:\n",
        "        print(f'Failed to load {download_url} to path {destination_path}')\n",
        "        continue\n",
        "\n",
        "print('Data source import complete.')\n"
      ],
      "metadata": {
        "id": "V_2DYe8Ubhdq"
      },
      "cell_type": "code",
      "outputs": [],
      "execution_count": null
    },
    {
      "cell_type": "code",
      "source": [
        "import os\n",
        "import numpy as np\n",
        "import pandas as pd\n",
        "import matplotlib.pyplot as plt\n",
        "import seaborn as sns\n",
        "\n",
        "from keras.preprocessing.image import ImageDataGenerator\n",
        "from keras.models import Sequential, Model\n",
        "from keras.layers import (\n",
        "    Dense, Conv2D, MaxPool2D, Dropout, Flatten,\n",
        "    BatchNormalization, GlobalAveragePooling2D\n",
        ")\n",
        "\n",
        "from keras.applications.densenet import DenseNet121\n",
        "from keras import backend as K\n",
        "\n",
        "from sklearn.metrics import confusion_matrix, classification_report\n",
        "\n",
        "os.listdir(\"../input/chest-xray-pneumonia/chest_xray\")"
      ],
      "metadata": {
        "_uuid": "8f2839f25d086af736a60e9eeb907d3b93b6e0e5",
        "_cell_guid": "b1076dfc-b9ad-4769-8c92-a6c4dae69d19",
        "execution": {
          "iopub.status.busy": "2023-01-31T22:10:49.682815Z",
          "iopub.execute_input": "2023-01-31T22:10:49.683834Z",
          "iopub.status.idle": "2023-01-31T22:10:55.315713Z",
          "shell.execute_reply.started": "2023-01-31T22:10:49.683732Z",
          "shell.execute_reply": "2023-01-31T22:10:55.314612Z"
        },
        "trusted": true,
        "id": "SY7uIMiabhdz"
      },
      "execution_count": null,
      "outputs": []
    },
    {
      "cell_type": "code",
      "source": [
        "len(os.listdir(\"../input/chest-xray-pneumonia/chest_xray/train/PNEUMONIA\"))"
      ],
      "metadata": {
        "execution": {
          "iopub.status.busy": "2023-01-31T22:10:55.317664Z",
          "iopub.execute_input": "2023-01-31T22:10:55.318419Z",
          "iopub.status.idle": "2023-01-31T22:10:55.999836Z",
          "shell.execute_reply.started": "2023-01-31T22:10:55.31838Z",
          "shell.execute_reply": "2023-01-31T22:10:55.998843Z"
        },
        "trusted": true,
        "id": "XkqVIU3kbhdz"
      },
      "execution_count": null,
      "outputs": []
    },
    {
      "cell_type": "code",
      "source": [
        "train_dir = \"../input/chest-xray-pneumonia/chest_xray/train\"\n",
        "test_dir = \"../input/chest-xray-pneumonia/chest_xray/test\"\n",
        "val_dir = \"../input/chest-xray-pneumonia/chest_xray/val\"\n",
        "\n",
        "print(\"Train set:\\n========================================\")\n",
        "num_pneumonia = len(os.listdir(os.path.join(train_dir, 'PNEUMONIA')))\n",
        "num_normal = len(os.listdir(os.path.join(train_dir, 'NORMAL')))\n",
        "print(f\"PNEUMONIA={num_pneumonia}\")\n",
        "print(f\"NORMAL={num_normal}\")\n",
        "\n",
        "print(\"Test set:\\n========================================\")\n",
        "print(f\"PNEUMONIA = {len(os.listdir(os.path.join(test_dir, 'PNEUMONIA')))}\")\n",
        "print(f\"NORMAL = {len(os.listdir(os.path.join(test_dir, 'NORMAL')))}\")\n",
        "\n",
        "print(\"Validation set:\\n========================================\")\n",
        "print(f\"PNEUMONIA = {len(os.listdir(os.path.join(val_dir, 'PNEUMONIA')))}\")\n",
        "print(f\"NORMAL = {len(os.listdir(os.path.join(val_dir, 'NORMAL')))}\")\n",
        "\n",
        "pneumonia = os.listdir(\"../input/chest-xray-pneumonia/chest_xray/train/PNEUMONIA\")\n",
        "pneumonia_dir = \"../input/chest-xray-pneumonia/chest_xray/train/PNEUMONIA\"\n",
        "\n",
        "plt.figure(figsize=(20, 10))\n",
        "\n",
        "for i in range(9):\n",
        "    plt.subplot(3, 3, i + 1)\n",
        "    img = plt.imread(os.path.join(pneumonia_dir, pneumonia[i]))\n",
        "    plt.imshow(img, cmap='gray')\n",
        "    plt.axis('off')\n",
        "\n",
        "plt.tight_layout()"
      ],
      "metadata": {
        "execution": {
          "iopub.status.busy": "2023-01-31T22:10:56.001516Z",
          "iopub.execute_input": "2023-01-31T22:10:56.002203Z",
          "iopub.status.idle": "2023-01-31T22:10:59.086571Z",
          "shell.execute_reply.started": "2023-01-31T22:10:56.002164Z",
          "shell.execute_reply": "2023-01-31T22:10:59.08565Z"
        },
        "trusted": true,
        "id": "NRl3tbn1bhd0"
      },
      "execution_count": null,
      "outputs": []
    },
    {
      "cell_type": "code",
      "source": [
        "normal = os.listdir(\"../input/chest-xray-pneumonia/chest_xray/train/NORMAL\")\n",
        "normal_dir = \"../input/chest-xray-pneumonia/chest_xray/train/NORMAL\"\n",
        "\n",
        "plt.figure(figsize=(20, 10))\n",
        "\n",
        "for i in range(9):\n",
        "    plt.subplot(3, 3, i + 1)\n",
        "    img = plt.imread(os.path.join(normal_dir, normal[i]))\n",
        "    plt.imshow(img, cmap='gray')\n",
        "    plt.axis('off')\n",
        "\n",
        "plt.tight_layout()"
      ],
      "metadata": {
        "execution": {
          "iopub.status.busy": "2023-01-31T22:10:59.088665Z",
          "iopub.execute_input": "2023-01-31T22:10:59.089008Z",
          "iopub.status.idle": "2023-01-31T22:11:01.232165Z",
          "shell.execute_reply.started": "2023-01-31T22:10:59.088977Z",
          "shell.execute_reply": "2023-01-31T22:11:01.230281Z"
        },
        "trusted": true,
        "id": "qol9W7y4bhd0"
      },
      "execution_count": null,
      "outputs": []
    },
    {
      "cell_type": "code",
      "source": [
        "normal_img = os.listdir(\"../input/chest-xray-pneumonia/chest_xray/train/NORMAL\")[0]\n",
        "normal_dir = \"../input/chest-xray-pneumonia/chest_xray/train/NORMAL\"\n",
        "\n",
        "sample_img = plt.imread(os.path.join(normal_dir, normal_img))\n",
        "plt.imshow(sample_img, cmap='gray')\n",
        "plt.colorbar()\n",
        "plt.title('Raw Chest X Ray Image')\n",
        "\n",
        "print(f\"The dimensions of the image are {sample_img.shape[0]} pixels width and {sample_img.shape[1]} pixels height, one single color channel.\")\n",
        "print(f\"The maximum pixel value is {sample_img.max():.4f} and the minimum is {sample_img.min():.4f}\")\n",
        "print(f\"The mean value of the pixels is {sample_img.mean():.4f} and the standard deviation is {sample_img.std():.4f}\")"
      ],
      "metadata": {
        "execution": {
          "iopub.status.busy": "2023-01-31T22:11:01.233732Z",
          "iopub.execute_input": "2023-01-31T22:11:01.234749Z",
          "iopub.status.idle": "2023-01-31T22:11:01.611475Z",
          "shell.execute_reply.started": "2023-01-31T22:11:01.234709Z",
          "shell.execute_reply": "2023-01-31T22:11:01.610538Z"
        },
        "trusted": true,
        "id": "DpQ55hd2bhd1"
      },
      "execution_count": null,
      "outputs": []
    },
    {
      "cell_type": "code",
      "source": [
        "sns.distplot(sample_img.ravel(),\n",
        "             label=f\"Pixel Mean {np.mean(sample_img):.4f} & Standard Deviation {np.std(sample_img):.4f}\",\n",
        "             kde=False)\n",
        "plt.legend(loc='upper right')\n",
        "plt.title('Distribution of Pixel Intensities in the Image')\n",
        "plt.xlabel('Pixel Intensity')\n",
        "plt.ylabel('# Pixels in Image')"
      ],
      "metadata": {
        "execution": {
          "iopub.status.busy": "2023-01-31T22:11:01.614482Z",
          "iopub.execute_input": "2023-01-31T22:11:01.614782Z",
          "iopub.status.idle": "2023-01-31T22:11:01.948863Z",
          "shell.execute_reply.started": "2023-01-31T22:11:01.614756Z",
          "shell.execute_reply": "2023-01-31T22:11:01.947937Z"
        },
        "trusted": true,
        "id": "SZ26I1Xybhd1"
      },
      "execution_count": null,
      "outputs": []
    },
    {
      "cell_type": "code",
      "source": [
        "image_generator = ImageDataGenerator(\n",
        "    rotation_range=20,\n",
        "    width_shift_range=0.1,\n",
        "    shear_range=0.1,\n",
        "    zoom_range=0.1,\n",
        "    samplewise_center=True,\n",
        "    samplewise_std_normalization=True\n",
        ")"
      ],
      "metadata": {
        "execution": {
          "iopub.status.busy": "2023-01-31T22:11:01.950425Z",
          "iopub.execute_input": "2023-01-31T22:11:01.950781Z",
          "iopub.status.idle": "2023-01-31T22:11:01.958243Z",
          "shell.execute_reply.started": "2023-01-31T22:11:01.950746Z",
          "shell.execute_reply": "2023-01-31T22:11:01.957243Z"
        },
        "trusted": true,
        "id": "Mbiesx6Obhd2"
      },
      "execution_count": null,
      "outputs": []
    },
    {
      "cell_type": "code",
      "source": [
        "train = image_generator.flow_from_directory(train_dir,\n",
        "                                            batch_size=8,\n",
        "                                            shuffle=True,\n",
        "                                            class_mode='binary',\n",
        "                                            target_size=(320, 320))\n",
        "\n",
        "validation = image_generator.flow_from_directory(val_dir,\n",
        "                                                batch_size=1,\n",
        "                                                shuffle=False,\n",
        "                                                class_mode='binary',\n",
        "                                                target_size=(320, 320))\n",
        "\n",
        "test = image_generator.flow_from_directory(test_dir,\n",
        "                                            batch_size=1,\n",
        "                                            shuffle=False,\n",
        "                                            class_mode='binary',\n",
        "                                            target_size=(320, 320))"
      ],
      "metadata": {
        "execution": {
          "iopub.status.busy": "2023-01-31T22:11:01.959383Z",
          "iopub.execute_input": "2023-01-31T22:11:01.960888Z",
          "iopub.status.idle": "2023-01-31T22:11:12.105076Z",
          "shell.execute_reply.started": "2023-01-31T22:11:01.960851Z",
          "shell.execute_reply": "2023-01-31T22:11:12.104075Z"
        },
        "trusted": true,
        "id": "eHzGHBa8bhd4"
      },
      "execution_count": null,
      "outputs": []
    },
    {
      "cell_type": "code",
      "source": [
        "sns.set_style('white')\n",
        "generated_image, label = train.__getitem__(0)\n",
        "plt.imshow(generated_image[0], cmap='gray')\n",
        "plt.colorbar()\n",
        "plt.title('Raw Chest X Ray Image')\n",
        "\n",
        "print(f\"The dimensions of the image are {generated_image.shape[1]} pixels width and {generated_image.shape[2]} pixels height, one single color channel.\")\n",
        "print(f\"The maximum pixel value is {generated_image.max():.4f} and the minimum is {generated_image.min():.4f}\")\n",
        "print(f\"The mean value of the pixels is {generated_image.mean():.4f} and the standard deviation is {generated_image.std():.4f}\")"
      ],
      "metadata": {
        "execution": {
          "iopub.status.busy": "2023-01-31T22:11:12.107573Z",
          "iopub.execute_input": "2023-01-31T22:11:12.108206Z",
          "iopub.status.idle": "2023-01-31T22:11:12.76742Z",
          "shell.execute_reply.started": "2023-01-31T22:11:12.108168Z",
          "shell.execute_reply": "2023-01-31T22:11:12.766555Z"
        },
        "trusted": true,
        "id": "J_hgh7rlbhd4"
      },
      "execution_count": null,
      "outputs": []
    },
    {
      "cell_type": "code",
      "source": [
        "sns.distplot(generated_image.ravel(),\n",
        "             label=f\"Pixel Mean {np.mean(generated_image):.4f} & Standard Deviation {np.std(generated_image):.4f}\",\n",
        "             kde=False)\n",
        "plt.legend(loc='upper center')\n",
        "plt.title('Distribution of Pixel Intensities in the Image')\n",
        "plt.xlabel('Pixel Intensity')\n",
        "plt.ylabel('# Pixels in Image')"
      ],
      "metadata": {
        "execution": {
          "iopub.status.busy": "2023-01-31T22:11:12.771847Z",
          "iopub.execute_input": "2023-01-31T22:11:12.772327Z",
          "iopub.status.idle": "2023-01-31T22:11:13.164557Z",
          "shell.execute_reply.started": "2023-01-31T22:11:12.772298Z",
          "shell.execute_reply": "2023-01-31T22:11:13.163535Z"
        },
        "trusted": true,
        "id": "2pRSYsb9bhd5"
      },
      "execution_count": null,
      "outputs": []
    },
    {
      "cell_type": "code",
      "source": [
        "# Class weights\n",
        "\n",
        "weight_for_0 = num_pneumonia / (num_normal + num_pneumonia)\n",
        "weight_for_1 = num_normal / (num_normal + num_pneumonia)\n",
        "\n",
        "class_weight = {0: weight_for_0, 1: weight_for_1}\n",
        "\n",
        "print(f\"Weight for class 0: {weight_for_0:.2f}\")\n",
        "print(f\"Weight for class 1: {weight_for_1:.2f}\")"
      ],
      "metadata": {
        "execution": {
          "iopub.status.busy": "2023-01-31T22:11:13.165934Z",
          "iopub.execute_input": "2023-01-31T22:11:13.16629Z",
          "iopub.status.idle": "2023-01-31T22:11:13.1732Z",
          "shell.execute_reply.started": "2023-01-31T22:11:13.166254Z",
          "shell.execute_reply": "2023-01-31T22:11:13.172088Z"
        },
        "trusted": true,
        "id": "KZIJTUUPbhd5"
      },
      "execution_count": null,
      "outputs": []
    },
    {
      "cell_type": "code",
      "source": [
        "model = Sequential()\n",
        "\n",
        "model.add(Conv2D(filters=32, kernel_size=(3, 3), input_shape=(320, 320, 3), activation='relu'))\n",
        "model.add(BatchNormalization())\n",
        "model.add(Conv2D(filters=32, kernel_size=(3, 3), input_shape=(320, 320, 3), activation='relu'))\n",
        "model.add(BatchNormalization())\n",
        "model.add(MaxPool2D(pool_size=(2, 2)))\n",
        "\n",
        "model.add(Conv2D(filters=64, kernel_size=(3, 3), activation='relu'))\n",
        "model.add(BatchNormalization())\n",
        "model.add(Conv2D(filters=64, kernel_size=(3, 3), activation='relu'))\n",
        "model.add(BatchNormalization())\n",
        "model.add(MaxPool2D(pool_size=(2, 2)))\n",
        "\n",
        "model.add(Conv2D(filters=128, kernel_size=(3, 3), activation='relu'))\n",
        "model.add(BatchNormalization())\n",
        "model.add(Conv2D(filters=128, kernel_size=(3, 3), activation='relu'))\n",
        "model.add(BatchNormalization())\n",
        "model.add(MaxPool2D(pool_size=(2, 2)))\n",
        "\n",
        "model.add(Flatten())\n",
        "model.add(Dense(128, activation='relu'))\n",
        "model.add(Dropout(0.2))\n",
        "\n",
        "model.add(Dense(1, activation='sigmoid'))\n",
        "\n",
        "model.compile(loss='binary_crossentropy',\n",
        "              optimizer='adam',\n",
        "              metrics=['accuracy'])"
      ],
      "metadata": {
        "execution": {
          "iopub.status.busy": "2023-01-31T22:11:13.175076Z",
          "iopub.execute_input": "2023-01-31T22:11:13.175647Z",
          "iopub.status.idle": "2023-01-31T22:11:16.277309Z",
          "shell.execute_reply.started": "2023-01-31T22:11:13.175582Z",
          "shell.execute_reply": "2023-01-31T22:11:16.276322Z"
        },
        "trusted": true,
        "id": "_bE4bnmRbhd5"
      },
      "execution_count": null,
      "outputs": []
    },
    {
      "cell_type": "code",
      "source": [
        "model.summary()"
      ],
      "metadata": {
        "_kg_hide-output": true,
        "execution": {
          "iopub.status.busy": "2023-01-31T22:11:16.278634Z",
          "iopub.execute_input": "2023-01-31T22:11:16.278975Z",
          "iopub.status.idle": "2023-01-31T22:11:16.288843Z",
          "shell.execute_reply.started": "2023-01-31T22:11:16.278943Z",
          "shell.execute_reply": "2023-01-31T22:11:16.28775Z"
        },
        "trusted": true,
        "id": "pv9eYZt0bhd5"
      },
      "execution_count": null,
      "outputs": []
    },
    {
      "cell_type": "code",
      "source": [
        "r = model.fit(\n",
        "    train,\n",
        "    epochs=10,\n",
        "    validation_data=validation,\n",
        "    class_weight=class_weight,\n",
        "    steps_per_epoch=100,\n",
        "    validation_steps=25,\n",
        ")"
      ],
      "metadata": {
        "_kg_hide-output": true,
        "execution": {
          "iopub.status.busy": "2023-01-31T22:11:16.290348Z",
          "iopub.execute_input": "2023-01-31T22:11:16.291052Z",
          "iopub.status.idle": "2023-01-31T22:17:37.213673Z",
          "shell.execute_reply.started": "2023-01-31T22:11:16.290978Z",
          "shell.execute_reply": "2023-01-31T22:17:37.212586Z"
        },
        "trusted": true,
        "id": "xVh-ahUZbhd5"
      },
      "execution_count": null,
      "outputs": []
    },
    {
      "cell_type": "code",
      "source": [
        "plt.figure(figsize=(12, 8))\n",
        "\n",
        "plt.subplot(2, 2, 1)\n",
        "plt.plot(r.history['loss'], label='Loss')\n",
        "plt.plot(r.history['val_loss'], label='Val_Loss')\n",
        "plt.legend()\n",
        "plt.title('Loss Evolution')\n",
        "\n",
        "plt.subplot(2, 2, 2)\n",
        "plt.plot(r.history['accuracy'], label='Accuracy')\n",
        "plt.plot(r.history['val_accuracy'], label='Val_Accuracy')\n",
        "plt.legend()\n",
        "plt.title('Accuracy Evolution')"
      ],
      "metadata": {
        "execution": {
          "iopub.status.busy": "2023-01-31T22:17:37.215442Z",
          "iopub.execute_input": "2023-01-31T22:17:37.215833Z",
          "iopub.status.idle": "2023-01-31T22:17:37.573013Z",
          "shell.execute_reply.started": "2023-01-31T22:17:37.215801Z",
          "shell.execute_reply": "2023-01-31T22:17:37.572107Z"
        },
        "trusted": true,
        "id": "AnFjRxOJbhd6"
      },
      "execution_count": null,
      "outputs": []
    },
    {
      "cell_type": "code",
      "source": [
        "evaluation = model.evaluate(test)\n",
        "print(f\"Test Accuracy: {evaluation[1] * 100:.2f}%\")\n",
        "\n",
        "evaluation = model.evaluate(train)\n",
        "print(f\"Train Accuracy: {evaluation[1] * 100:.2f}%\")"
      ],
      "metadata": {
        "execution": {
          "iopub.status.busy": "2023-01-31T22:17:37.574322Z",
          "iopub.execute_input": "2023-01-31T22:17:37.574708Z",
          "iopub.status.idle": "2023-01-31T22:20:57.452941Z",
          "shell.execute_reply.started": "2023-01-31T22:17:37.574669Z",
          "shell.execute_reply": "2023-01-31T22:20:57.451871Z"
        },
        "trusted": true,
        "id": "7kUoGMpZbhd6"
      },
      "execution_count": null,
      "outputs": []
    },
    {
      "cell_type": "code",
      "source": [
        "pred = model.predict(test)\n",
        "\n",
        "print(confusion_matrix(test.classes, pred > 0.5))\n",
        "pd.DataFrame(classification_report(test.classes, pred > 0.5, output_dict=True))"
      ],
      "metadata": {
        "execution": {
          "iopub.status.busy": "2023-01-31T22:20:57.45437Z",
          "iopub.execute_input": "2023-01-31T22:20:57.45523Z",
          "iopub.status.idle": "2023-01-31T22:21:16.570605Z",
          "shell.execute_reply.started": "2023-01-31T22:20:57.45519Z",
          "shell.execute_reply": "2023-01-31T22:21:16.569455Z"
        },
        "trusted": true,
        "id": "2Jzg4GkAbhd6"
      },
      "execution_count": null,
      "outputs": []
    },
    {
      "cell_type": "code",
      "source": [
        "print(confusion_matrix(test.classes, pred > 0.7))\n",
        "pd.DataFrame(classification_report(test.classes, pred > 0.7, output_dict=True))"
      ],
      "metadata": {
        "execution": {
          "iopub.status.busy": "2023-01-31T22:21:16.572337Z",
          "iopub.execute_input": "2023-01-31T22:21:16.573041Z",
          "iopub.status.idle": "2023-01-31T22:21:16.593867Z",
          "shell.execute_reply.started": "2023-01-31T22:21:16.573002Z",
          "shell.execute_reply": "2023-01-31T22:21:16.592829Z"
        },
        "trusted": true,
        "id": "AVWG21VKbhd6"
      },
      "execution_count": null,
      "outputs": []
    },
    {
      "cell_type": "code",
      "source": [
        "base_model = DenseNet121(input_shape=(320, 320, 3), include_top=False, weights='imagenet', pooling='avg')\n",
        "\n",
        "base_model.summary()"
      ],
      "metadata": {
        "_kg_hide-output": true,
        "execution": {
          "iopub.status.busy": "2023-01-31T22:21:16.595398Z",
          "iopub.execute_input": "2023-01-31T22:21:16.596086Z",
          "iopub.status.idle": "2023-01-31T22:21:21.296594Z",
          "shell.execute_reply.started": "2023-01-31T22:21:16.596038Z",
          "shell.execute_reply": "2023-01-31T22:21:21.295294Z"
        },
        "collapsed": true,
        "jupyter": {
          "outputs_hidden": true
        },
        "trusted": true,
        "id": "cOSVzbQVbhd6"
      },
      "execution_count": null,
      "outputs": []
    },
    {
      "cell_type": "code",
      "source": [
        "layers = base_model.layers\n",
        "print(f\"The model has {len(layers)} layers\")\n",
        "\n",
        "print(f\"The input shape {base_model.input}\")\n",
        "print(f\"The output shape {base_model.output}\")"
      ],
      "metadata": {
        "execution": {
          "iopub.status.busy": "2023-01-31T22:21:21.298304Z",
          "iopub.execute_input": "2023-01-31T22:21:21.29904Z",
          "iopub.status.idle": "2023-01-31T22:21:21.307101Z",
          "shell.execute_reply.started": "2023-01-31T22:21:21.298998Z",
          "shell.execute_reply": "2023-01-31T22:21:21.305853Z"
        },
        "trusted": true,
        "id": "ZpOpAvIHbhd6"
      },
      "execution_count": null,
      "outputs": []
    },
    {
      "cell_type": "code",
      "source": [
        "# model = Sequential()\n",
        "base_model = DenseNet121(include_top=False, weights='imagenet')\n",
        "x = base_model.output\n",
        "\n",
        "x = GlobalAveragePooling2D()(x)\n",
        "\n",
        "predictions = Dense(1, activation=\"sigmoid\")(x)\n",
        "\n",
        "model = Model(inputs=base_model.input, outputs=predictions)\n",
        "# model.add(base_model)\n",
        "# model.add(GlobalAveragePooling2D())\n",
        "# model.add(Dense(1, activation='sigmoid'))\n",
        "\n",
        "model.compile(loss='binary_crossentropy',\n",
        "              optimizer='adam',\n",
        "              metrics=['accuracy'])\n",
        "\n",
        "r = model.fit(\n",
        "    train,\n",
        "    epochs=10,\n",
        "    validation_data=validation,\n",
        "    class_weight=class_weight,\n",
        "    steps_per_epoch=100,\n",
        "    validation_steps=25,\n",
        ")"
      ],
      "metadata": {
        "execution": {
          "iopub.status.busy": "2023-01-31T22:21:21.308816Z",
          "iopub.execute_input": "2023-01-31T22:21:21.309319Z",
          "iopub.status.idle": "2023-01-31T22:28:03.812387Z",
          "shell.execute_reply.started": "2023-01-31T22:21:21.309282Z",
          "shell.execute_reply": "2023-01-31T22:28:03.811255Z"
        },
        "trusted": true,
        "id": "NqBj86c0bhd6"
      },
      "execution_count": null,
      "outputs": []
    },
    {
      "cell_type": "code",
      "source": [
        "plt.figure(figsize=(12, 8))\n",
        "\n",
        "plt.subplot(2, 2, 1)\n",
        "plt.plot(r.history['loss'], label='Loss')\n",
        "plt.plot(r.history['val_loss'], label='Val_Loss')\n",
        "plt.legend()\n",
        "plt.title('Loss Evolution')\n",
        "\n",
        "plt.subplot(2, 2, 2)\n",
        "plt.plot(r.history['accuracy'], label='Accuracy')\n",
        "plt.plot(r.history['val_accuracy'], label='Val_Accuracy')\n",
        "plt.legend()\n",
        "plt.title('Accuracy Evolution')"
      ],
      "metadata": {
        "execution": {
          "iopub.status.busy": "2023-01-31T22:28:03.814682Z",
          "iopub.execute_input": "2023-01-31T22:28:03.81507Z",
          "iopub.status.idle": "2023-01-31T22:28:04.183449Z",
          "shell.execute_reply.started": "2023-01-31T22:28:03.815032Z",
          "shell.execute_reply": "2023-01-31T22:28:04.182521Z"
        },
        "trusted": true,
        "id": "Gb6C5NaBbhd7"
      },
      "execution_count": null,
      "outputs": []
    },
    {
      "cell_type": "code",
      "source": [
        "evaluation = model.evaluate(test)\n",
        "print(f\"Test Accuracy: {evaluation[1] * 100:.2f}%\")\n",
        "\n",
        "evaluation = model.evaluate(train)\n",
        "print(f\"Train Accuracy: {evaluation[1] * 100:.2f}%\")"
      ],
      "metadata": {
        "execution": {
          "iopub.status.busy": "2023-01-31T22:28:04.1857Z",
          "iopub.execute_input": "2023-01-31T22:28:04.186369Z",
          "iopub.status.idle": "2023-01-31T22:32:07.469171Z",
          "shell.execute_reply.started": "2023-01-31T22:28:04.186331Z",
          "shell.execute_reply": "2023-01-31T22:32:07.468084Z"
        },
        "trusted": true,
        "id": "aWdlO1Yibhd7"
      },
      "execution_count": null,
      "outputs": []
    },
    {
      "cell_type": "code",
      "source": [
        "predicted_vals = model.predict(test, steps=len(test))"
      ],
      "metadata": {
        "execution": {
          "iopub.status.busy": "2023-01-31T22:32:07.47086Z",
          "iopub.execute_input": "2023-01-31T22:32:07.471202Z",
          "iopub.status.idle": "2023-01-31T22:32:32.015375Z",
          "shell.execute_reply.started": "2023-01-31T22:32:07.471167Z",
          "shell.execute_reply": "2023-01-31T22:32:32.014386Z"
        },
        "trusted": true,
        "id": "l1NVkLxsbhd7"
      },
      "execution_count": null,
      "outputs": []
    },
    {
      "cell_type": "code",
      "source": [
        "print(confusion_matrix(test.classes, predicted_vals > 0.5))\n",
        "pd.DataFrame(classification_report(test.classes, predicted_vals > 0.5, output_dict=True))"
      ],
      "metadata": {
        "execution": {
          "iopub.status.busy": "2023-01-31T22:32:32.017237Z",
          "iopub.execute_input": "2023-01-31T22:32:32.017625Z",
          "iopub.status.idle": "2023-01-31T22:32:32.039266Z",
          "shell.execute_reply.started": "2023-01-31T22:32:32.017574Z",
          "shell.execute_reply": "2023-01-31T22:32:32.038315Z"
        },
        "trusted": true,
        "id": "k2lQkpGobhd7"
      },
      "execution_count": null,
      "outputs": []
    },
    {
      "cell_type": "code",
      "source": [
        "print(confusion_matrix(test.classes, predicted_vals > 0.7))\n",
        "pd.DataFrame(classification_report(test.classes, predicted_vals > 0.7, output_dict=True))"
      ],
      "metadata": {
        "execution": {
          "iopub.status.busy": "2023-01-31T22:32:32.040382Z",
          "iopub.execute_input": "2023-01-31T22:32:32.040665Z",
          "iopub.status.idle": "2023-01-31T22:32:32.063137Z",
          "shell.execute_reply.started": "2023-01-31T22:32:32.04064Z",
          "shell.execute_reply": "2023-01-31T22:32:32.062303Z"
        },
        "trusted": true,
        "id": "sBZOupYFbhd7"
      },
      "execution_count": null,
      "outputs": []
    }
  ]
}